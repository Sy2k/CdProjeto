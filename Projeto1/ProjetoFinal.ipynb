{
 "cells": [
  {
   "cell_type": "markdown",
   "metadata": {},
   "source": [
    "___\n",
    "# Insper - Ciência dos Dados #\n",
    "___\n",
    "**Projeto 1 | Stephanie Liu**\n",
    "\n",
    "**Engenharia 2B**\n",
    "\n",
    "O Projeto 1 de Ciência dos Dados é baseada em realizar análise exploratória referência: Aula do Professor Miranda e o Livro de Noções de Probabilidade e Estatísca (Autor: Marcos Magalhães & Antônio de Lima)  \n",
    "\n",
    "---\n",
    "# Perguntas a serem respondidas #\n",
    "\n",
    "1. O quanto a ONU contribuiu a partir da Earth Summit 92(RJ) aos países começarem a incentivar mais a energia renovavel ?\n",
    "2. E isso esta causando uma queda significativa de emissão de CO2 em relação ao todo? Se não, O que esta afetando ainda?\n",
    "___\n",
    "\n",
    "# Introdução #\n",
    "**Explicação da hipótese** \n",
    "\n",
    "Desde de a Conferência de Estocolmo, foram discutidos cada vez mais a questão do ambiente e o aquecimento global, a partir do Earth Summit de 92 os países entraram em um consenso para que houvesse a diminuição da emissão de gases .\n",
    "\n",
    "O Link 5(das Referências), apesar de serem apenas dados da Alemanha, é possível ver o quanto de emissão desses gases, apenas na Alemanha foram evitados, seguindo esses dados, é possível ver que há um montante significativo de Gases que não foram emitidos>\n",
    "\n",
    "Seguindo a linha de racicionio dos dados analisados da Alemanha, caso os países começassem a investir em energia renovavel, teoricamente haveria uma diminuição na emissão de gases de efeito estufa. Contudo, há uma chance de que esse tempo,de 92 até hoje em dia, não foi possível alcançar o desejável, em que houvesse alguma alteração significativa.\n",
    "\n",
    "Além disso, em 2015 houve o acordo para a Agenda 2030 em que um dos objetivos é a energia renovavel. Desta forma, os países que concordaram com esses objetivos da Agenda 2030, principalmente para os países mais desenvolvidos, tem uma pressão política internacional.\n",
    "\n",
    "Logo, provavelmente houve a diminuição de gases de efeito estufa, mas pelo pouco tempo não deve haver uma diferença significativa no montante de todo os gases emitidos, pois estes, por sua vez, não provém apenas da produção de energia.\n",
    "\n",
    "**Explicação do mecanismo** \n",
    "\n",
    "Como a Conferência do Rio de Janeiro de 1992 houve um consenso entre os países, sobre as questões ambietalistas é viável compararmos os países que não estão entre os países que participaram da conferência em relação ao quanto de energia renovável estão produzindo e o quanto de combustíveis fosséis estão consumindo.\n",
    "\n",
    "Outra análise que poderá ser feita, é o antes e o depois dos países que participaram da conferência obseravendo as mesmas variáveis. \n",
    "\n",
    "Além disso, poderemos ver se a alguma correlação entre o PIB dos países e seus investimentos nas energias renováveis e o menor consumo de combustíveis fosséis. Outro fator seria a porcentagem da energia produzida no país, quanto desse todo provém de fontes renovável  \n",
    "\n",
    "Seria interessante também ver a diferença de um país que investe uma parte significativa do seu PIB em energia renováveis e um país que não tem uma parcela significativa \n",
    "\n",
    "___"
   ]
  },
  {
   "cell_type": "code",
   "execution_count": null,
   "metadata": {},
   "outputs": [],
   "source": [
    "#------------------------ Importando as Bibliotecas --------------------------\n",
    "%matplotlib inline\n",
    "import pandas as pd\n",
    "import numpy as np\n",
    "import math as math\n",
    "from scipy import stats\n",
    "import matplotlib.pyplot as plt"
   ]
  },
  {
   "cell_type": "code",
   "execution_count": null,
   "metadata": {},
   "outputs": [],
   "source": [
    "#-------------------- Leitura do excel(Fonte: GapMinder) --------------------------------------- \n",
    "#os documentos que estão abertos, futuramente posso utilizar, se não for utilizado será apagado\n",
    "#coal_consumtion_t = pd.read_excel('coal_consumption_total.xlsx')\n",
    "#eletricity_generation_t = pd.read_excel('electricity_generation_total.xlsx')\n",
    "#hydro_power_generation_t = pd.read_excel('hydro_power_generation_total.xlsx')\n",
    "#naturalgas_prodution_t =pd.read_excel('natural_gas_production_total.xlsx')\n",
    "#nuclear_power_generation_t = pd.read_excel('nuclear_power_generation_total.xlsx')\n",
    "#oil_production_t = pd.read_excel('oil_production_total.xlsx')\n",
    "energy_production = pd.read_excel('energy_production_total.xlsx')\n",
    "\n",
    "economy = pd.read_excel('gdp_total_yearly_growth.xlsx')\n",
    "#-------------------- Leitura do excel(Fonte: WorldBank) --------------------------------------- \n",
    "Electricity_production_renewablesources = pd.read_excel('ElectricityRenewable_antesde92.xls')#SEM CONTAR HIDRELETRICA\n",
    "Fossil_fuel_energy_consumption = pd.read_excel('Fossilfuelenergy consumption.xls')\n",
    "FromOil = pd.read_excel('Electricityproductionfromoilsources.xls')\n",
    "\n",
    "#----Paises Participantes(Fonte: www.postsustainabilityinstitute.org/uploads/4/4/6/6/4466371/agenda.21.attendees.pdf) \n",
    "AttendedCountry = pd.read_excel('PaisesParticipantes.xlsx')\n"
   ]
  },
  {
   "cell_type": "markdown",
   "metadata": {},
   "source": [
    "---\n",
    "# Filtração dos dados #\n",
    "\n",
    "Como estamos analisando a partir do Earth Summit de 92 que aconteceu no Rio de Janeiro, faz sentido pegarmos os dados de 1992 e 2015. Para comparar como está se comportando a produção de energia renóvavel e o consumo de combustíveis fosséis \n",
    "\n",
    "Além disso, precisamos filtrar os países que participaram dessa conferência para conseguir analisar primeiramente o antes e o depois dos países participantes da conferência.\n",
    "\n",
    "---\n"
   ]
  },
  {
   "cell_type": "code",
   "execution_count": null,
   "metadata": {},
   "outputs": [],
   "source": [
    "#---------------------------- Mudando o Indice -----------------------------\n",
    "country_idx = AttendedCountry.set_index('Paises participantes')\n",
    "energy_idx = Electricity_production_renewablesources.set_index('Country Name')\n",
    "fosil_idx = Fossil_fuel_energy_consumption.set_index('Country Name')\n",
    "GDP_idx = economy.set_index('country')\n",
    "Energy_Total_idx = energy_production.set_index('country')"
   ]
  },
  {
   "cell_type": "code",
   "execution_count": null,
   "metadata": {},
   "outputs": [],
   "source": [
    "#----------------------------- Filtrando os Anos ----------------------------\n",
    "Energy_1 = energy_idx.loc[:,[1992, 2015]]\n",
    "Energy_1.head(10)"
   ]
  },
  {
   "cell_type": "code",
   "execution_count": null,
   "metadata": {},
   "outputs": [],
   "source": [
    "# Fossil_1 = fosil_idx[fosil_idx.columns[57:58]]\n",
    "# Fossil_1.head(6)\n",
    "Fossil_1 = fosil_idx.loc[:,[1992, \"2014\"]]\n",
    "Fossil_1.head(10)"
   ]
  },
  {
   "cell_type": "code",
   "execution_count": null,
   "metadata": {},
   "outputs": [],
   "source": [
    "#GDP_1 = GDP_idx[GDP_idx.columns[191:192]]\n",
    "#GDP.head(6)\n",
    "GDP = GDP.loc[:,[1992, 2015]]\n",
    "GDP_idx.head(20)"
   ]
  },
  {
   "cell_type": "code",
   "execution_count": null,
   "metadata": {},
   "outputs": [],
   "source": [
    "Energy = Energy_Total_idx.loc[:,[1992, 2009]]\n",
    "Energy.head(20)"
   ]
  },
  {
   "cell_type": "markdown",
   "metadata": {},
   "source": [
    "---\n",
    "# Junção dos Dados #\n",
    "\n",
    "Há uma interseção dos dados, ou seja, há uma limpeza dos países, nestes casos, que não participaram da conferência \n",
    "Já que futuramente iremos analisar o antes e o depois dos países que estiverem presentes na conferência\n",
    "\n",
    "---"
   ]
  },
  {
   "cell_type": "code",
   "execution_count": null,
   "metadata": {},
   "outputs": [],
   "source": [
    "C_Attendend_Energy = country_idx.join(Energy, how='inner', lsuffix='_Country', rsuffix='_Energy')\n",
    "#C_Attendend_Energy\n",
    "C_Attendend_Fossil = country_idx.join(Fosil, how='inner',lsuffix='_Country', rsuffix='_Fossil')\n",
    "#C_Attendend_Fossil\n",
    "C_Attendend_Economy = GDP.join(Energy,how='inner',lsuffix='_GDP',rsuffix='_GDP')\n",
    "#C_Attendend_Economy\n",
    "C_Attended_TotalEnergy = country_idx.join(Energy_total,how='inner',lsuffix='_Country',rsuffix='_Energy')\n",
    "#C_Attended_TotalEnergy"
   ]
  },
  {
   "cell_type": "markdown",
   "metadata": {},
   "source": [
    "---\n",
    "# Remoção dos Países sem dados #\n",
    "\n",
    "Há alguns países que não possuem os dados, não será possível realizar uma análise destes países, há a possibilidade de fazer tal limpeza já que não há a necessidade de analisar cada país, pois estamos vendo de forma geral, toda a situação.\n",
    "\n",
    "---"
   ]
  },
  {
   "cell_type": "code",
   "execution_count": null,
   "metadata": {},
   "outputs": [],
   "source": [
    "EnergyRenovavelProduzida = C_Attendend_Energy.dropna()\n",
    "#EnergyRenovavelProduzida\n",
    "EnergyRenovavelProduzida.head(5)"
   ]
  },
  {
   "cell_type": "code",
   "execution_count": null,
   "metadata": {},
   "outputs": [],
   "source": [
    "EnergiaTotalPaises = C_Attended_TotalEnergy.dropna()\n",
    "#EnergiaTotalPaises\n",
    "EnergiaTotalPaises.head(5)"
   ]
  },
  {
   "cell_type": "code",
   "execution_count": null,
   "metadata": {},
   "outputs": [],
   "source": []
  }
 ],
 "metadata": {
  "kernelspec": {
   "display_name": "Python 3",
   "language": "python",
   "name": "python3"
  },
  "language_info": {
   "codemirror_mode": {
    "name": "ipython",
    "version": 3
   },
   "file_extension": ".py",
   "mimetype": "text/x-python",
   "name": "python",
   "nbconvert_exporter": "python",
   "pygments_lexer": "ipython3",
   "version": "3.7.1"
  }
 },
 "nbformat": 4,
 "nbformat_minor": 2
}
