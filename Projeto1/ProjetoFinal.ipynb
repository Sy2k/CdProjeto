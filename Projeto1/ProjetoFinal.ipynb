{
 "cells": [
  {
   "cell_type": "markdown",
   "metadata": {},
   "source": [
    "___\n",
    "# Insper - Ciência dos Dados #\n",
    "___\n",
    "**Projeto 1 | Stephanie Liu**\n",
    "\n",
    "**Engenharia 2B**\n",
    "\n",
    "O Projeto 1 de Ciência dos Dados é baseada em realizar análise exploratória referência: Aula do Professor Fábio Miranda e o Livro de Noções de Probabilidade e Estatísca (Autor: Marcos Magalhães & Antônio de Lima)  \n",
    "\n",
    "---\n",
    "# Perguntas a serem respondidas #\n",
    "\n",
    "1. O quanto a ONU contribuiu a partir da Earth Summit 92(RJ) aos países começarem a incentivar mais a energia renovavel ?\n",
    "2. E isso esta causando uma queda significativa de emissão de CO2 em relação ao todo? Se não, O que esta afetando ainda?\n",
    "___\n",
    "\n",
    "# Introdução #\n",
    "    United Nations Conference on Environment and Development (UNCED) ou Conferência das Nações Unidas sobre  Meio Ambiente e Desenvolvimento (UNCED), Cúpula da Terra\n",
    "**Explicação da hipótese** \n",
    "\n",
    "Desde 1990, a comunidade internacional reuniu 12 importantes conferências que comprometeram os governos a tratar urgentemente de alguns dos problemas mais urgentes que o mundo enfrenta atualmente. A primeira conferência é a de Estocolmo, porém não houve muitos avanços nesta conferência. A segunda aconteceu no Rio de Janeiro em 92. Logo, a partir do Earth Summit de 92 os países entraram em um consenso para que houvesse a diminuição da emissão de gases.\n",
    "\n",
    "Com o decorrer dos anos foi se percebendo cada vez mais a importância do cuidado que temos que ter com o meio ambiente havendo mais 10 conferências futuas, passando por revisões e discussões, como o protocolo de kyoto e entre outras. \n",
    "\n",
    "O Link 5(das Referências), apesar de serem apenas dados da Alemanha, é possível ver o quanto de emissão desses gases, apenas na Alemanha foram evitados, seguindo esses dados, é possível ver que há um montante significativo de Gases que não foram emitidos>\n",
    "\n",
    "Seguindo a linha de racicionio dos dados analisados da Alemanha, caso os países começassem a investir em energia renovavel, teoricamente haveria uma diminuição na emissão de gases de efeito estufa. Contudo, há uma chance de que esse tempo,de 92 até hoje em dia, não foi possível alcançar o desejável, em que houvesse alguma alteração significativa.\n",
    "\n",
    "Além disso, em 2015 houve o acordo para a Agenda 2030 em que um dos objetivos é a energia renovavel. Desta forma, os países que concordaram com esses objetivos da Agenda 2030, principalmente para os países mais desenvolvidos, tem uma pressão política internacional.\n",
    "\n",
    "Logo, provavelmente houve a diminuição de gases de efeito estufa, mas pelo pouco tempo não deve haver uma diferença significativa no montante de todo os gases emitidos, pois estes, por sua vez, não provém apenas da produção de energia.\n",
    "\n",
    "**Explicação do mecanismo** \n",
    "\n",
    "Como a Conferência do Rio de Janeiro de 1992 houve um consenso entre os países, sobre as questões ambietalistas é viável compararmos os países que não estão entre os países que participaram da conferência em relação ao quanto de energia renovável estão produzindo e o quanto de combustíveis fosséis estão consumindo.\n",
    "\n",
    "Outra análise que poderá ser feita, é o antes e o depois dos países que participaram da conferência obseravendo as mesmas variáveis. \n",
    "\n",
    "Além disso, poderemos ver se a alguma correlação entre o PIB dos países e seus investimentos nas energias renováveis e o menor consumo de combustíveis fosséis. Outro fator seria a porcentagem da energia produzida no país, quanto desse todo provém de fontes renovável  \n",
    "\n",
    "Seria interessante também ver a diferença de um país que investe uma parte significativa do seu PIB em energia renováveis e um país que não tem uma parcela significativa \n",
    "\n",
    "___"
   ]
  },
  {
   "cell_type": "code",
   "execution_count": 1,
   "metadata": {},
   "outputs": [],
   "source": [
    "#------------------------ Importando as Bibliotecas --------------------------\n",
    "%matplotlib inline\n",
    "import pandas as pd\n",
    "import numpy as np\n",
    "import math as math\n",
    "from scipy import stats\n",
    "import matplotlib.pyplot as plt"
   ]
  },
  {
   "cell_type": "code",
   "execution_count": 9,
   "metadata": {},
   "outputs": [],
   "source": [
    "#------------------------ Files --------------------------\n",
    "energy_hydro = pd.read_excel('EnergyHydro.xls', sheet_name=\"Data\", skiprows=3)\n",
    "energy_oil = pd.read_excel(\"EnergyProductionOilSources.xls\", sheet_name=\"Data\", skiprows=3)\n",
    "gdp = pd.read_excel(\"GDP_WorldBank.xls\", sheet_name=\"Data\", skiprows=3)\n",
    "attendend_92 = pd.read_excel(\"PaisesParticipantes.xlsx\")\n",
    "green_energy = pd.read_excel(\"RenewableEletricityOutput.xls\", sheet_name=\"Data\", skiprows=3)\n",
    "\n"
   ]
  },
  {
   "cell_type": "markdown",
   "metadata": {},
   "source": [
    "---\n",
    "# Filtração dos dados #\n",
    "\n",
    "Como estamos analisando a partir do Earth Summit de 92 que aconteceu no Rio de Janeiro, faz sentido pegarmos os dados de 1992 a 2015 inicialmente. Para comparar como está se comportando a produção de energia renóvavel e o consumo de combustíveis fosséis \n",
    "\n",
    "Além disso, precisamos filtrar os países que participaram dessa conferência para conseguir analisar primeiramente o antes e o depois dos países participantes da conferência.\n",
    "\n",
    "---\n"
   ]
  },
  {
   "cell_type": "code",
   "execution_count": null,
   "metadata": {},
   "outputs": [],
   "source": [
    "#---------------------------- Mudando o Indice -----------------------------\n",
    "country_idx = attendend_92.set_index('Paises participantes')\n",
    "energyhydro_idx = energy_hydro.set_index('Country Name')\n",
    "energyoil_idx = energy_oil.set_index(\"Country Name\")\n",
    "\n",
    "fosil_idx = Fossil_fuel_energy_consumption.set_index('Country Name')\n",
    "gdp_idx = gdp.set_index('Country Name')\n"
   ]
  },
  {
   "cell_type": "code",
   "execution_count": null,
   "metadata": {},
   "outputs": [],
   "source": []
  },
  {
   "cell_type": "code",
   "execution_count": null,
   "metadata": {},
   "outputs": [],
   "source": []
  },
  {
   "cell_type": "code",
   "execution_count": null,
   "metadata": {},
   "outputs": [],
   "source": []
  },
  {
   "cell_type": "code",
   "execution_count": null,
   "metadata": {},
   "outputs": [],
   "source": []
  },
  {
   "cell_type": "markdown",
   "metadata": {},
   "source": [
    "---\n",
    "# Junção dos Dados #\n",
    "\n",
    "Há uma interseção dos dados, ou seja, há uma limpeza dos países, nestes casos, que não participaram da conferência \n",
    "Já que futuramente iremos analisar o antes e o depois dos países que estiverem presentes na conferência\n",
    "\n",
    "---"
   ]
  },
  {
   "cell_type": "code",
   "execution_count": null,
   "metadata": {},
   "outputs": [],
   "source": []
  },
  {
   "cell_type": "markdown",
   "metadata": {},
   "source": [
    "---\n",
    "# Remoção dos Países sem dados #\n",
    "\n",
    "Há alguns países que não possuem os dados, não será possível realizar uma análise destes países, há a possibilidade de fazer tal limpeza já que não há a necessidade de analisar cada país, pois estamos vendo de forma geral, toda a situação.\n",
    "\n",
    "---"
   ]
  },
  {
   "cell_type": "code",
   "execution_count": null,
   "metadata": {},
   "outputs": [],
   "source": []
  },
  {
   "cell_type": "code",
   "execution_count": null,
   "metadata": {},
   "outputs": [],
   "source": []
  },
  {
   "cell_type": "code",
   "execution_count": null,
   "metadata": {},
   "outputs": [],
   "source": []
  }
 ],
 "metadata": {
  "kernelspec": {
   "display_name": "Python 3",
   "language": "python",
   "name": "python3"
  },
  "language_info": {
   "codemirror_mode": {
    "name": "ipython",
    "version": 3
   },
   "file_extension": ".py",
   "mimetype": "text/x-python",
   "name": "python",
   "nbconvert_exporter": "python",
   "pygments_lexer": "ipython3",
   "version": "3.7.1"
  }
 },
 "nbformat": 4,
 "nbformat_minor": 2
}
